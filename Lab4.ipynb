{
 "cells": [
  {
   "cell_type": "markdown",
   "metadata": {},
   "source": [
    "Christian Basso\n",
    "\n",
    "Intro to Data Science\n",
    "\n",
    "Lab 4: EDA with Statistical Testing\n",
    "\n",
    "September 28th, 2023\n",
    "\n",
    "# Lab 4: Exploratory Data Analysis (EDA) with Statistical Testing"
   ]
  },
  {
   "cell_type": "markdown",
   "metadata": {},
   "source": [
    "## Introduction\n",
    "\n",
    "Similar to lab 2, this program aims to see which variables are predictive of price and property type. However, where lab 2 used visuals to define trends, this lab will use statistical tests to define probablitlity values in order to accept or reject null hypothesis of a significant relationship between price and / or property type."
   ]
  },
  {
   "cell_type": "markdown",
   "metadata": {},
   "source": [
    "## Part 1: Review of Statistical Tests\n",
    "\n",
    "*From the lab document*\n",
    "\n",
    "\"Let's say that you decide you want to know if playing video games impacts students'\n",
    "grades. You set up a survey which asks students two questions:\n",
    "1. Do you play video games regularly? Yes / no\n",
    "2. What is your GPA?\"\n",
    "\n",
    "**Hypothesis: If a student regularly plays video games, their GPA will be negatively impacted.**\n",
    "\n",
    "**Null Hypothesis: If a student regularly plays video games, their average GPA will not be effected.**\n",
    "**Alternative Hypothesis: If a student regularly plays video games, their GPA will be lower than those who do not regularly play video games.**\n",
    "\n",
    "*From the lab document*\n",
    "\n",
    "\"68 students said they play video games regularly, while 32 students said they did not. The 68 gamers\n",
    "have an average GPA of 3.4 with a standard deviation of 1.2, while the 32 non-gamers\n",
    "have an average GPA of 3.3 with a standard deviation of 1.1.\""
   ]
  },
  {
   "cell_type": "markdown",
   "metadata": {},
   "source": [
    "#### Two sample t-Tests\n",
    "\n",
    "Two sample t-tests are used when a data set has one nomial variable and one measurement variable. Two variable t tests are accurate when the sample set is either small (50 and below) and normally distributed or larger and *fairly* normalized. Samples that are small and non-normal will produce conciderably more false positives. Additionally, the t-test results will be sensitive to heteroscedasticity if the two groups have unbalanced sample sizes and the smaller sample size has a larger standard deviation. Heteroscedasticity will lead to a greater number false postive results.\n",
    "\n",
    "The survey results are skewed towards those who play video games 68-32, and the smaller group of non-gamers has a smaller standard deviation than the gamers, 1.1 vs 1.2. Since the larger sample group has the higher std. deviaion and the sample is large enough (100 entries), the unequal sample distribution will have negliable impact on the results of the t-test."
   ]
  },
  {
   "cell_type": "markdown",
   "metadata": {},
   "source": [
    "**Null Hypothesis: If a student regularly plays video games, their average GPA will not be affected.**\n",
    "\n",
    "**Alternative Hypothesis: If a student regularly plays video games, their GPA will be lower than those who do not regularly play video games.**"
   ]
  },
  {
   "cell_type": "markdown",
   "metadata": {},
   "source": [
    "#### Conducting the Two Sample t-Test\n",
    "\n",
    "The Two sample t-test will be conductd on the survey data above using the scipy.stats.ttest_ind_from_stats method."
   ]
  },
  {
   "cell_type": "code",
   "execution_count": 1,
   "metadata": {},
   "outputs": [],
   "source": [
    "from scipy.stats import ttest_ind_from_stats"
   ]
  },
  {
   "cell_type": "code",
   "execution_count": 2,
   "metadata": {},
   "outputs": [
    {
     "name": "stdout",
     "output_type": "stream",
     "text": [
      "statistic: 0.39893881176878243\n",
      "P-value: 0.6908062583072547\n"
     ]
    }
   ],
   "source": [
    "(statistic, pval) = ttest_ind_from_stats(3.4, 1.2, 68, 3.3, 1.1, 32)\n",
    "print(\"statistic: \" + str(statistic))\n",
    "print(\"P-value: \" + str(pval))"
   ]
  },
  {
   "cell_type": "markdown",
   "metadata": {},
   "source": [
    "The t-test resulted in a statistic value of 0.399 and a P value of 0.690. This means there is a 69% chance of getting a result more extreme than 0.399 if the null hypothesis was true. Given that the threshold to reject the null hypothesis is 0.01, this means it is likley to obtain a result within the null value given there is no effect within the two samples. Applied to the survey data, this means that there is no significant difference between the GPA of students who play video games and those who do not."
   ]
  },
  {
   "cell_type": "markdown",
   "metadata": {},
   "source": [
    "## Part 2: Exploring Additional Statistical Tests\n",
    "This section explores 3 more statistical tests. Each test analysis will include variables types, assumptions, null and alternative hypotheses, and statistical significance analysis."
   ]
  },
  {
   "cell_type": "markdown",
   "metadata": {},
   "source": [
    "#### Pearsons Corelation\n",
    "Used to detirmine the relationship between two measurement variables. For example, Speed and Pulse. biostathandbook.com states \"There's also one nominal variable that keeps the two measurements together in pairs, such as the name of an individual organism, experimental trial, or location. I'm not aware that anyone else considers this nominal variable to be part of correlation and regression, and it's not something you need to know the value of\".\n",
    "\n",
    "This test can either tell a cause an effect relationship between two variables such as drug dosage and blood pressure (Does a higher dosage cause a higher blood pressure?), or simpily infer association without causation, (a change in X causes a chang in Y, or a shift in Z effects both X & Y). The association strength is measured in r^2. A higher r^2 value indicates a stronger association between the two variables. The r^2 value is always between 0 and 1, with 0 indicating no association and 1 indicating a perfect association. In a visual sense, the \"tightness\" of a linear regression line is a good indicator of the r^2 value. A very tight line indicates a strong association, while a loose line indicates a weak association.\n",
    "\n",
    "\n",
    "<img src=\"http://www.biostathandbook.com/pix/rangersquared.gif\"\n",
    "     alt=\"Markdown Monster icon\"\n",
    "     style=\"float: center: 10px;\" />\n",
    "\n",
    "A null hypothesis for a pearsons correlation test would be \"There is no association between X and Y\". The alternative hypothesis would be \"A change in X *causes* the change in Y.\n",
    "\n",
    "One can assume that X an Y will be normally distributed and homoscedastic. However, biostathandbook.com states \"you will rarely have enough data to test these assumptions, they are often violated\". Additionally, the test assumes a linear relationship, if there is a curve in the graph, the test will not be accurate.\n",
    "\n",
    "The P value gives you the probability of finding a slope that is larger than the observed slope, under the null hypothesis that the true slope is 0. If the test does not indicate any statistical significance, one can conclude that X and Y have no association. If the P value is less than 0.05, one can conclude that there is a statistically significant association between X and Y.\n",
    "\n"
   ]
  },
  {
   "cell_type": "markdown",
   "metadata": {},
   "source": [
    "#### Kruskal-Wallis Test\n",
    "Used to measure if the mean ranks are the same within all nominal groups when testing with one ranked and one nominal variable.\n",
    "All data in the groups are ranked by value, then the average of those ranks are calculated and compared per each group.\n",
    "\n",
    "The null hypthosis of the Wallis test is that the samples come from populations with the same distribution (the mean ranks are the same). The alternative hypothesis is that the samples come from populations with different distributions (and the mean ranks are not the same). Groups can have idenical means and medians but have different mean ranks. \n",
    "\n",
    "One big advantage of this test is that it does not assume the data is normally distributed, however if the distributions are heteroscedastic, the test will not be helpful. Additionally, this test does assume that the different groups have the same distribution, and groups with different standard deviations have different distributions.\n",
    "\n",
    "If the test concludes that the rank means are the same with a small P value, it can be said that the groups have the same sample distrubution and not one group is generally \"higher\" or \"lower\" than the others."
   ]
  },
  {
   "cell_type": "markdown",
   "metadata": {},
   "source": [
    "#### Chi-Squared Test\n",
    "The chi-square test is used to determine whether there is a significant difference between the expected frequencies and the observed frequencies in one or more categories. This test is used when there is one nominal variable with two or more values (I.E. red, white and pink flowers). You compare the observed counts of observations in each category with the expected counts, which you calculate using some kind of theoretical expectation.\n",
    "\n",
    "The null hypothesis is that the number of observations in each category is the same to that predicted by some therory. The alternative hypothesis is that the observed numbers are different from the expected. Biostathandbook.com uses the example of \"looking at an area of shore that had 59% of the area covered in sand, 28% mud and 13% rocks; if you were investigating where seagulls like to stand, your null hypothesis would be that 59% of the seagulls were standing on sand, 28% on mud and 13% on rocks.\" \n",
    "\n",
    "This test assumes indipendence.\n",
    "\n",
    "The larger the deviation from the null hypothesis, the larger the difference between observed and expected result is. If there is a small devation from the null hypothesis, the original prediction was close to the observed results. If the deviation is large, the observed results are far from the expected results.\n"
   ]
  },
  {
   "cell_type": "markdown",
   "metadata": {},
   "source": [
    "## Part 3: Regression on Price\n",
    "This section of the program will see which continuous and categorical variables are predictive of price using linear regression or Kruskal-Wallis tests."
   ]
  },
  {
   "cell_type": "code",
   "execution_count": 3,
   "metadata": {},
   "outputs": [],
   "source": [
    "import pandas as pd\n",
    "import scipy.stats as stats"
   ]
  },
  {
   "cell_type": "code",
   "execution_count": 4,
   "metadata": {},
   "outputs": [
    {
     "data": {
      "text/html": [
       "<div>\n",
       "<style scoped>\n",
       "    .dataframe tbody tr th:only-of-type {\n",
       "        vertical-align: middle;\n",
       "    }\n",
       "\n",
       "    .dataframe tbody tr th {\n",
       "        vertical-align: top;\n",
       "    }\n",
       "\n",
       "    .dataframe thead th {\n",
       "        text-align: right;\n",
       "    }\n",
       "</style>\n",
       "<table border=\"1\" class=\"dataframe\">\n",
       "  <thead>\n",
       "    <tr style=\"text-align: right;\">\n",
       "      <th></th>\n",
       "      <th>street</th>\n",
       "      <th>city</th>\n",
       "      <th>zip</th>\n",
       "      <th>state</th>\n",
       "      <th>beds</th>\n",
       "      <th>baths</th>\n",
       "      <th>sq__ft</th>\n",
       "      <th>type</th>\n",
       "      <th>sale_date</th>\n",
       "      <th>price</th>\n",
       "      <th>latitude</th>\n",
       "      <th>longitude</th>\n",
       "      <th>empty_lot</th>\n",
       "      <th>street_type</th>\n",
       "    </tr>\n",
       "  </thead>\n",
       "  <tbody>\n",
       "    <tr>\n",
       "      <th>0</th>\n",
       "      <td>51 OMAHA CT</td>\n",
       "      <td>SACRAMENTO</td>\n",
       "      <td>95823</td>\n",
       "      <td>CA</td>\n",
       "      <td>3</td>\n",
       "      <td>1</td>\n",
       "      <td>1167</td>\n",
       "      <td>Residential</td>\n",
       "      <td>Wed May 21 00:00:00 EDT 2008</td>\n",
       "      <td>68212</td>\n",
       "      <td>38.478902</td>\n",
       "      <td>-121.431028</td>\n",
       "      <td>False</td>\n",
       "      <td>Court</td>\n",
       "    </tr>\n",
       "    <tr>\n",
       "      <th>1</th>\n",
       "      <td>2796 BRANCH ST</td>\n",
       "      <td>SACRAMENTO</td>\n",
       "      <td>95815</td>\n",
       "      <td>CA</td>\n",
       "      <td>2</td>\n",
       "      <td>1</td>\n",
       "      <td>796</td>\n",
       "      <td>Residential</td>\n",
       "      <td>Wed May 21 00:00:00 EDT 2008</td>\n",
       "      <td>68880</td>\n",
       "      <td>38.618305</td>\n",
       "      <td>-121.443839</td>\n",
       "      <td>False</td>\n",
       "      <td>Street</td>\n",
       "    </tr>\n",
       "    <tr>\n",
       "      <th>2</th>\n",
       "      <td>2805 JANETTE WAY</td>\n",
       "      <td>SACRAMENTO</td>\n",
       "      <td>95815</td>\n",
       "      <td>CA</td>\n",
       "      <td>2</td>\n",
       "      <td>1</td>\n",
       "      <td>852</td>\n",
       "      <td>Residential</td>\n",
       "      <td>Wed May 21 00:00:00 EDT 2008</td>\n",
       "      <td>69307</td>\n",
       "      <td>38.616835</td>\n",
       "      <td>-121.439146</td>\n",
       "      <td>False</td>\n",
       "      <td>Way</td>\n",
       "    </tr>\n",
       "    <tr>\n",
       "      <th>3</th>\n",
       "      <td>6001 MCMAHON DR</td>\n",
       "      <td>SACRAMENTO</td>\n",
       "      <td>95824</td>\n",
       "      <td>CA</td>\n",
       "      <td>2</td>\n",
       "      <td>1</td>\n",
       "      <td>797</td>\n",
       "      <td>Residential</td>\n",
       "      <td>Wed May 21 00:00:00 EDT 2008</td>\n",
       "      <td>81900</td>\n",
       "      <td>38.519470</td>\n",
       "      <td>-121.435768</td>\n",
       "      <td>False</td>\n",
       "      <td>Drive</td>\n",
       "    </tr>\n",
       "    <tr>\n",
       "      <th>4</th>\n",
       "      <td>5828 PEPPERMILL CT</td>\n",
       "      <td>SACRAMENTO</td>\n",
       "      <td>95841</td>\n",
       "      <td>CA</td>\n",
       "      <td>3</td>\n",
       "      <td>1</td>\n",
       "      <td>1122</td>\n",
       "      <td>Condo</td>\n",
       "      <td>Wed May 21 00:00:00 EDT 2008</td>\n",
       "      <td>89921</td>\n",
       "      <td>38.662595</td>\n",
       "      <td>-121.327813</td>\n",
       "      <td>False</td>\n",
       "      <td>Court</td>\n",
       "    </tr>\n",
       "  </tbody>\n",
       "</table>\n",
       "</div>"
      ],
      "text/plain": [
       "               street        city    zip state  beds  baths  sq__ft  \\\n",
       "0         51 OMAHA CT  SACRAMENTO  95823    CA     3      1    1167   \n",
       "1      2796 BRANCH ST  SACRAMENTO  95815    CA     2      1     796   \n",
       "2    2805 JANETTE WAY  SACRAMENTO  95815    CA     2      1     852   \n",
       "3     6001 MCMAHON DR  SACRAMENTO  95824    CA     2      1     797   \n",
       "4  5828 PEPPERMILL CT  SACRAMENTO  95841    CA     3      1    1122   \n",
       "\n",
       "          type                     sale_date  price   latitude   longitude  \\\n",
       "0  Residential  Wed May 21 00:00:00 EDT 2008  68212  38.478902 -121.431028   \n",
       "1  Residential  Wed May 21 00:00:00 EDT 2008  68880  38.618305 -121.443839   \n",
       "2  Residential  Wed May 21 00:00:00 EDT 2008  69307  38.616835 -121.439146   \n",
       "3  Residential  Wed May 21 00:00:00 EDT 2008  81900  38.519470 -121.435768   \n",
       "4        Condo  Wed May 21 00:00:00 EDT 2008  89921  38.662595 -121.327813   \n",
       "\n",
       "   empty_lot street_type  \n",
       "0      False       Court  \n",
       "1      False      Street  \n",
       "2      False         Way  \n",
       "3      False       Drive  \n",
       "4      False       Court  "
      ]
     },
     "execution_count": 4,
     "metadata": {},
     "output_type": "execute_result"
    }
   ],
   "source": [
    "df = pd.read_csv(\"clean_cali_housing.csv\")\n",
    "df.head()"
   ]
  },
  {
   "cell_type": "code",
   "execution_count": 5,
   "metadata": {},
   "outputs": [
    {
     "data": {
      "text/html": [
       "<div>\n",
       "<style scoped>\n",
       "    .dataframe tbody tr th:only-of-type {\n",
       "        vertical-align: middle;\n",
       "    }\n",
       "\n",
       "    .dataframe tbody tr th {\n",
       "        vertical-align: top;\n",
       "    }\n",
       "\n",
       "    .dataframe thead th {\n",
       "        text-align: right;\n",
       "    }\n",
       "</style>\n",
       "<table border=\"1\" class=\"dataframe\">\n",
       "  <thead>\n",
       "    <tr style=\"text-align: right;\">\n",
       "      <th></th>\n",
       "      <th>street</th>\n",
       "      <th>city</th>\n",
       "      <th>zip</th>\n",
       "      <th>state</th>\n",
       "      <th>beds</th>\n",
       "      <th>baths</th>\n",
       "      <th>sq__ft</th>\n",
       "      <th>type</th>\n",
       "      <th>sale_date</th>\n",
       "      <th>price</th>\n",
       "      <th>latitude</th>\n",
       "      <th>longitude</th>\n",
       "      <th>empty_lot</th>\n",
       "      <th>street_type</th>\n",
       "    </tr>\n",
       "  </thead>\n",
       "  <tbody>\n",
       "    <tr>\n",
       "      <th>0</th>\n",
       "      <td>51 OMAHA CT</td>\n",
       "      <td>SACRAMENTO</td>\n",
       "      <td>95823</td>\n",
       "      <td>CA</td>\n",
       "      <td>3</td>\n",
       "      <td>1</td>\n",
       "      <td>1167</td>\n",
       "      <td>Residential</td>\n",
       "      <td>Wed May 21 00:00:00 EDT 2008</td>\n",
       "      <td>68212</td>\n",
       "      <td>38.478902</td>\n",
       "      <td>-121.431028</td>\n",
       "      <td>False</td>\n",
       "      <td>Court</td>\n",
       "    </tr>\n",
       "    <tr>\n",
       "      <th>1</th>\n",
       "      <td>2796 BRANCH ST</td>\n",
       "      <td>SACRAMENTO</td>\n",
       "      <td>95815</td>\n",
       "      <td>CA</td>\n",
       "      <td>2</td>\n",
       "      <td>1</td>\n",
       "      <td>796</td>\n",
       "      <td>Residential</td>\n",
       "      <td>Wed May 21 00:00:00 EDT 2008</td>\n",
       "      <td>68880</td>\n",
       "      <td>38.618305</td>\n",
       "      <td>-121.443839</td>\n",
       "      <td>False</td>\n",
       "      <td>Street</td>\n",
       "    </tr>\n",
       "    <tr>\n",
       "      <th>2</th>\n",
       "      <td>2805 JANETTE WAY</td>\n",
       "      <td>SACRAMENTO</td>\n",
       "      <td>95815</td>\n",
       "      <td>CA</td>\n",
       "      <td>2</td>\n",
       "      <td>1</td>\n",
       "      <td>852</td>\n",
       "      <td>Residential</td>\n",
       "      <td>Wed May 21 00:00:00 EDT 2008</td>\n",
       "      <td>69307</td>\n",
       "      <td>38.616835</td>\n",
       "      <td>-121.439146</td>\n",
       "      <td>False</td>\n",
       "      <td>Way</td>\n",
       "    </tr>\n",
       "    <tr>\n",
       "      <th>3</th>\n",
       "      <td>6001 MCMAHON DR</td>\n",
       "      <td>SACRAMENTO</td>\n",
       "      <td>95824</td>\n",
       "      <td>CA</td>\n",
       "      <td>2</td>\n",
       "      <td>1</td>\n",
       "      <td>797</td>\n",
       "      <td>Residential</td>\n",
       "      <td>Wed May 21 00:00:00 EDT 2008</td>\n",
       "      <td>81900</td>\n",
       "      <td>38.519470</td>\n",
       "      <td>-121.435768</td>\n",
       "      <td>False</td>\n",
       "      <td>Drive</td>\n",
       "    </tr>\n",
       "    <tr>\n",
       "      <th>4</th>\n",
       "      <td>5828 PEPPERMILL CT</td>\n",
       "      <td>SACRAMENTO</td>\n",
       "      <td>95841</td>\n",
       "      <td>CA</td>\n",
       "      <td>3</td>\n",
       "      <td>1</td>\n",
       "      <td>1122</td>\n",
       "      <td>Condo</td>\n",
       "      <td>Wed May 21 00:00:00 EDT 2008</td>\n",
       "      <td>89921</td>\n",
       "      <td>38.662595</td>\n",
       "      <td>-121.327813</td>\n",
       "      <td>False</td>\n",
       "      <td>Court</td>\n",
       "    </tr>\n",
       "    <tr>\n",
       "      <th>...</th>\n",
       "      <td>...</td>\n",
       "      <td>...</td>\n",
       "      <td>...</td>\n",
       "      <td>...</td>\n",
       "      <td>...</td>\n",
       "      <td>...</td>\n",
       "      <td>...</td>\n",
       "      <td>...</td>\n",
       "      <td>...</td>\n",
       "      <td>...</td>\n",
       "      <td>...</td>\n",
       "      <td>...</td>\n",
       "      <td>...</td>\n",
       "      <td>...</td>\n",
       "    </tr>\n",
       "    <tr>\n",
       "      <th>978</th>\n",
       "      <td>9169 GARLINGTON CT</td>\n",
       "      <td>SACRAMENTO</td>\n",
       "      <td>95829</td>\n",
       "      <td>CA</td>\n",
       "      <td>4</td>\n",
       "      <td>3</td>\n",
       "      <td>2280</td>\n",
       "      <td>Residential</td>\n",
       "      <td>Thu May 15 00:00:00 EDT 2008</td>\n",
       "      <td>232425</td>\n",
       "      <td>38.457679</td>\n",
       "      <td>-121.359620</td>\n",
       "      <td>False</td>\n",
       "      <td>Court</td>\n",
       "    </tr>\n",
       "    <tr>\n",
       "      <th>979</th>\n",
       "      <td>6932 RUSKUT WAY</td>\n",
       "      <td>SACRAMENTO</td>\n",
       "      <td>95823</td>\n",
       "      <td>CA</td>\n",
       "      <td>3</td>\n",
       "      <td>2</td>\n",
       "      <td>1477</td>\n",
       "      <td>Residential</td>\n",
       "      <td>Thu May 15 00:00:00 EDT 2008</td>\n",
       "      <td>234000</td>\n",
       "      <td>38.499893</td>\n",
       "      <td>-121.458890</td>\n",
       "      <td>False</td>\n",
       "      <td>Way</td>\n",
       "    </tr>\n",
       "    <tr>\n",
       "      <th>980</th>\n",
       "      <td>7933 DAFFODIL WAY</td>\n",
       "      <td>CITRUS HEIGHTS</td>\n",
       "      <td>95610</td>\n",
       "      <td>CA</td>\n",
       "      <td>3</td>\n",
       "      <td>2</td>\n",
       "      <td>1216</td>\n",
       "      <td>Residential</td>\n",
       "      <td>Thu May 15 00:00:00 EDT 2008</td>\n",
       "      <td>235000</td>\n",
       "      <td>38.708824</td>\n",
       "      <td>-121.256803</td>\n",
       "      <td>False</td>\n",
       "      <td>Way</td>\n",
       "    </tr>\n",
       "    <tr>\n",
       "      <th>981</th>\n",
       "      <td>8304 RED FOX WAY</td>\n",
       "      <td>ELK GROVE</td>\n",
       "      <td>95758</td>\n",
       "      <td>CA</td>\n",
       "      <td>4</td>\n",
       "      <td>2</td>\n",
       "      <td>1685</td>\n",
       "      <td>Residential</td>\n",
       "      <td>Thu May 15 00:00:00 EDT 2008</td>\n",
       "      <td>235301</td>\n",
       "      <td>38.417000</td>\n",
       "      <td>-121.397424</td>\n",
       "      <td>False</td>\n",
       "      <td>Way</td>\n",
       "    </tr>\n",
       "    <tr>\n",
       "      <th>982</th>\n",
       "      <td>3882 YELLOWSTONE LN</td>\n",
       "      <td>EL DORADO HILLS</td>\n",
       "      <td>95762</td>\n",
       "      <td>CA</td>\n",
       "      <td>3</td>\n",
       "      <td>2</td>\n",
       "      <td>1362</td>\n",
       "      <td>Residential</td>\n",
       "      <td>Thu May 15 00:00:00 EDT 2008</td>\n",
       "      <td>235738</td>\n",
       "      <td>38.655245</td>\n",
       "      <td>-121.075915</td>\n",
       "      <td>False</td>\n",
       "      <td>Lane</td>\n",
       "    </tr>\n",
       "  </tbody>\n",
       "</table>\n",
       "<p>983 rows × 14 columns</p>\n",
       "</div>"
      ],
      "text/plain": [
       "                  street             city    zip state  beds  baths  sq__ft  \\\n",
       "0            51 OMAHA CT       SACRAMENTO  95823    CA     3      1    1167   \n",
       "1         2796 BRANCH ST       SACRAMENTO  95815    CA     2      1     796   \n",
       "2       2805 JANETTE WAY       SACRAMENTO  95815    CA     2      1     852   \n",
       "3        6001 MCMAHON DR       SACRAMENTO  95824    CA     2      1     797   \n",
       "4     5828 PEPPERMILL CT       SACRAMENTO  95841    CA     3      1    1122   \n",
       "..                   ...              ...    ...   ...   ...    ...     ...   \n",
       "978   9169 GARLINGTON CT       SACRAMENTO  95829    CA     4      3    2280   \n",
       "979      6932 RUSKUT WAY       SACRAMENTO  95823    CA     3      2    1477   \n",
       "980    7933 DAFFODIL WAY   CITRUS HEIGHTS  95610    CA     3      2    1216   \n",
       "981     8304 RED FOX WAY        ELK GROVE  95758    CA     4      2    1685   \n",
       "982  3882 YELLOWSTONE LN  EL DORADO HILLS  95762    CA     3      2    1362   \n",
       "\n",
       "            type                     sale_date   price   latitude   longitude  \\\n",
       "0    Residential  Wed May 21 00:00:00 EDT 2008   68212  38.478902 -121.431028   \n",
       "1    Residential  Wed May 21 00:00:00 EDT 2008   68880  38.618305 -121.443839   \n",
       "2    Residential  Wed May 21 00:00:00 EDT 2008   69307  38.616835 -121.439146   \n",
       "3    Residential  Wed May 21 00:00:00 EDT 2008   81900  38.519470 -121.435768   \n",
       "4          Condo  Wed May 21 00:00:00 EDT 2008   89921  38.662595 -121.327813   \n",
       "..           ...                           ...     ...        ...         ...   \n",
       "978  Residential  Thu May 15 00:00:00 EDT 2008  232425  38.457679 -121.359620   \n",
       "979  Residential  Thu May 15 00:00:00 EDT 2008  234000  38.499893 -121.458890   \n",
       "980  Residential  Thu May 15 00:00:00 EDT 2008  235000  38.708824 -121.256803   \n",
       "981  Residential  Thu May 15 00:00:00 EDT 2008  235301  38.417000 -121.397424   \n",
       "982  Residential  Thu May 15 00:00:00 EDT 2008  235738  38.655245 -121.075915   \n",
       "\n",
       "    empty_lot street_type  \n",
       "0       False       Court  \n",
       "1       False      Street  \n",
       "2       False         Way  \n",
       "3       False       Drive  \n",
       "4       False       Court  \n",
       "..        ...         ...  \n",
       "978     False       Court  \n",
       "979     False         Way  \n",
       "980     False         Way  \n",
       "981     False         Way  \n",
       "982     False        Lane  \n",
       "\n",
       "[983 rows x 14 columns]"
      ]
     },
     "execution_count": 5,
     "metadata": {},
     "output_type": "execute_result"
    }
   ],
   "source": [
    "df.astype({'city': 'category'})\n",
    "df.astype({'state': 'category'})\n",
    "df.astype({'zip': 'category'})\n",
    "df.astype({'beds': 'category'})\n",
    "df.astype({'baths': 'category'})\n",
    "df.astype({'type': 'category'})\n",
    "df.astype({'street_type' : 'category'})\n",
    "df.astype({'empty_lot' : 'category'})"
   ]
  },
  {
   "cell_type": "markdown",
   "metadata": {},
   "source": [
    "### Continuous Variables with Linear Regression\n",
    "Using the scipy.stats.linregress() method, each continuous variable will be tested against price to see if there is a linear relationship between the two variables. The null hypothesis is that there is no linear relationship between the two variables. The alternative hypothesis is that there is a linear relationship between the two variables.\n",
    "\n",
    "Tables will be made for both continuous and categorical variables. The tables will include the variable name, the P value and a boolean indicating a statistically significant relationship between it and the measurement variable (a = 0.01)."
   ]
  },
  {
   "cell_type": "code",
   "execution_count": 6,
   "metadata": {},
   "outputs": [],
   "source": [
    "stat_table = pd.DataFrame(columns=['Variable', 'Pvalue', 'Stat Significant'])"
   ]
  },
  {
   "cell_type": "markdown",
   "metadata": {},
   "source": [
    "#### Sqaure Feet Vs Price"
   ]
  },
  {
   "cell_type": "code",
   "execution_count": 7,
   "metadata": {},
   "outputs": [
    {
     "data": {
      "text/html": [
       "<div>\n",
       "<style scoped>\n",
       "    .dataframe tbody tr th:only-of-type {\n",
       "        vertical-align: middle;\n",
       "    }\n",
       "\n",
       "    .dataframe tbody tr th {\n",
       "        vertical-align: top;\n",
       "    }\n",
       "\n",
       "    .dataframe thead th {\n",
       "        text-align: right;\n",
       "    }\n",
       "</style>\n",
       "<table border=\"1\" class=\"dataframe\">\n",
       "  <thead>\n",
       "    <tr style=\"text-align: right;\">\n",
       "      <th></th>\n",
       "      <th>Variable</th>\n",
       "      <th>Pvalue</th>\n",
       "      <th>Stat Significant</th>\n",
       "    </tr>\n",
       "  </thead>\n",
       "  <tbody>\n",
       "    <tr>\n",
       "      <th>0</th>\n",
       "      <td>sq__ft</td>\n",
       "      <td>4.171932e-27</td>\n",
       "      <td>True</td>\n",
       "    </tr>\n",
       "  </tbody>\n",
       "</table>\n",
       "</div>"
      ],
      "text/plain": [
       "  Variable        Pvalue  Stat Significant\n",
       "0   sq__ft  4.171932e-27              True"
      ]
     },
     "execution_count": 7,
     "metadata": {},
     "output_type": "execute_result"
    }
   ],
   "source": [
    "slope, intercept, r, p, stderr = stats.linregress(df[\"price\"], df[\"sq__ft\"])\n",
    "stat_table.loc[len(stat_table.index)] = ['sq__ft', p, p < 0.01] \n",
    "stat_table.head(5)"
   ]
  },
  {
   "cell_type": "markdown",
   "metadata": {},
   "source": [
    "#### Latitude Vs Price"
   ]
  },
  {
   "cell_type": "code",
   "execution_count": 8,
   "metadata": {},
   "outputs": [
    {
     "data": {
      "text/html": [
       "<div>\n",
       "<style scoped>\n",
       "    .dataframe tbody tr th:only-of-type {\n",
       "        vertical-align: middle;\n",
       "    }\n",
       "\n",
       "    .dataframe tbody tr th {\n",
       "        vertical-align: top;\n",
       "    }\n",
       "\n",
       "    .dataframe thead th {\n",
       "        text-align: right;\n",
       "    }\n",
       "</style>\n",
       "<table border=\"1\" class=\"dataframe\">\n",
       "  <thead>\n",
       "    <tr style=\"text-align: right;\">\n",
       "      <th></th>\n",
       "      <th>Variable</th>\n",
       "      <th>Pvalue</th>\n",
       "      <th>Stat Significant</th>\n",
       "    </tr>\n",
       "  </thead>\n",
       "  <tbody>\n",
       "    <tr>\n",
       "      <th>0</th>\n",
       "      <td>sq__ft</td>\n",
       "      <td>4.171932e-27</td>\n",
       "      <td>True</td>\n",
       "    </tr>\n",
       "    <tr>\n",
       "      <th>1</th>\n",
       "      <td>latitude</td>\n",
       "      <td>2.163252e-01</td>\n",
       "      <td>False</td>\n",
       "    </tr>\n",
       "  </tbody>\n",
       "</table>\n",
       "</div>"
      ],
      "text/plain": [
       "   Variable        Pvalue  Stat Significant\n",
       "0    sq__ft  4.171932e-27              True\n",
       "1  latitude  2.163252e-01             False"
      ]
     },
     "execution_count": 8,
     "metadata": {},
     "output_type": "execute_result"
    }
   ],
   "source": [
    "slope, intercept, r, p, stderr = stats.linregress(df[\"price\"], df[\"latitude\"])\n",
    "stat_table.loc[len(stat_table.index)] = ['latitude', p, p < 0.01] \n",
    "stat_table.head(5)"
   ]
  },
  {
   "cell_type": "markdown",
   "metadata": {},
   "source": [
    "#### Longitude Vs Price"
   ]
  },
  {
   "cell_type": "code",
   "execution_count": 9,
   "metadata": {},
   "outputs": [
    {
     "data": {
      "text/html": [
       "<div>\n",
       "<style scoped>\n",
       "    .dataframe tbody tr th:only-of-type {\n",
       "        vertical-align: middle;\n",
       "    }\n",
       "\n",
       "    .dataframe tbody tr th {\n",
       "        vertical-align: top;\n",
       "    }\n",
       "\n",
       "    .dataframe thead th {\n",
       "        text-align: right;\n",
       "    }\n",
       "</style>\n",
       "<table border=\"1\" class=\"dataframe\">\n",
       "  <thead>\n",
       "    <tr style=\"text-align: right;\">\n",
       "      <th></th>\n",
       "      <th>Variable</th>\n",
       "      <th>Pvalue</th>\n",
       "      <th>Stat Significant</th>\n",
       "    </tr>\n",
       "  </thead>\n",
       "  <tbody>\n",
       "    <tr>\n",
       "      <th>0</th>\n",
       "      <td>sq__ft</td>\n",
       "      <td>4.171932e-27</td>\n",
       "      <td>True</td>\n",
       "    </tr>\n",
       "    <tr>\n",
       "      <th>1</th>\n",
       "      <td>latitude</td>\n",
       "      <td>2.163252e-01</td>\n",
       "      <td>False</td>\n",
       "    </tr>\n",
       "    <tr>\n",
       "      <th>2</th>\n",
       "      <td>longitude</td>\n",
       "      <td>8.742930e-20</td>\n",
       "      <td>True</td>\n",
       "    </tr>\n",
       "  </tbody>\n",
       "</table>\n",
       "</div>"
      ],
      "text/plain": [
       "    Variable        Pvalue  Stat Significant\n",
       "0     sq__ft  4.171932e-27              True\n",
       "1   latitude  2.163252e-01             False\n",
       "2  longitude  8.742930e-20              True"
      ]
     },
     "execution_count": 9,
     "metadata": {},
     "output_type": "execute_result"
    }
   ],
   "source": [
    "slope, intercept, r, p, stderr = stats.linregress(df[\"price\"], df[\"longitude\"])\n",
    "stat_table.loc[len(stat_table.index)] = ['longitude', p, p < 0.01] \n",
    "stat_table.head(5)"
   ]
  },
  {
   "cell_type": "markdown",
   "metadata": {},
   "source": [
    "While it is expected that the square feet of a house would have a linear relationship with the price of the house, it is surprising that the longitude (and more spesifically **not** the latitude) of the house also have a linear relationship with the price. This could be due to the fact that houses in certain areas are more expensive than others, or that houses in certain areas are larger than others. However, this does not garentee caustion between longitude and price."
   ]
  },
  {
   "cell_type": "markdown",
   "metadata": {},
   "source": [
    "### Categorical Variables with Kruskal-Wallis Tests\n",
    "These tests aim to see if the distribution of prices for each categorical \"group\" is different from the distribution of the other groups."
   ]
  },
  {
   "cell_type": "code",
   "execution_count": 10,
   "metadata": {},
   "outputs": [],
   "source": [
    "stat_table_cat = pd.DataFrame(columns=['Variable', 'Pvalue', 'Stat Significant'])"
   ]
  },
  {
   "cell_type": "markdown",
   "metadata": {},
   "source": [
    "#### Zipcode Vs Price"
   ]
  },
  {
   "cell_type": "markdown",
   "metadata": {},
   "source": [
    "*The following code will be used for each categorical variable. First, the prices will be selected for each property type, then the kruskal test will be conducted, and the results will be added to the table.*\n"
   ]
  },
  {
   "cell_type": "code",
   "execution_count": 11,
   "metadata": {},
   "outputs": [
    {
     "data": {
      "text/html": [
       "<div>\n",
       "<style scoped>\n",
       "    .dataframe tbody tr th:only-of-type {\n",
       "        vertical-align: middle;\n",
       "    }\n",
       "\n",
       "    .dataframe tbody tr th {\n",
       "        vertical-align: top;\n",
       "    }\n",
       "\n",
       "    .dataframe thead th {\n",
       "        text-align: right;\n",
       "    }\n",
       "</style>\n",
       "<table border=\"1\" class=\"dataframe\">\n",
       "  <thead>\n",
       "    <tr style=\"text-align: right;\">\n",
       "      <th></th>\n",
       "      <th>Variable</th>\n",
       "      <th>Pvalue</th>\n",
       "      <th>Stat Significant</th>\n",
       "    </tr>\n",
       "  </thead>\n",
       "  <tbody>\n",
       "    <tr>\n",
       "      <th>0</th>\n",
       "      <td>Zipcode</td>\n",
       "      <td>4.416118e-65</td>\n",
       "      <td>True</td>\n",
       "    </tr>\n",
       "  </tbody>\n",
       "</table>\n",
       "</div>"
      ],
      "text/plain": [
       "  Variable        Pvalue  Stat Significant\n",
       "0  Zipcode  4.416118e-65              True"
      ]
     },
     "execution_count": 11,
     "metadata": {},
     "output_type": "execute_result"
    }
   ],
   "source": [
    "samples_by_group = []\n",
    "for value in set(df[\"zip\"]):\n",
    "    mask = df[\"zip\"] == value\n",
    "    samples_by_group.append(df[\"price\"][mask])\n",
    "\n",
    "stat, p = stats.kruskal(*samples_by_group)\n",
    "\n",
    "stat_table_cat.loc[len(stat_table_cat.index)] = ['Zipcode', p, p < 0.01] \n",
    "stat_table_cat.head(5)"
   ]
  },
  {
   "cell_type": "markdown",
   "metadata": {},
   "source": [
    "#### Beds vs Price"
   ]
  },
  {
   "cell_type": "code",
   "execution_count": 12,
   "metadata": {},
   "outputs": [
    {
     "data": {
      "text/html": [
       "<div>\n",
       "<style scoped>\n",
       "    .dataframe tbody tr th:only-of-type {\n",
       "        vertical-align: middle;\n",
       "    }\n",
       "\n",
       "    .dataframe tbody tr th {\n",
       "        vertical-align: top;\n",
       "    }\n",
       "\n",
       "    .dataframe thead th {\n",
       "        text-align: right;\n",
       "    }\n",
       "</style>\n",
       "<table border=\"1\" class=\"dataframe\">\n",
       "  <thead>\n",
       "    <tr style=\"text-align: right;\">\n",
       "      <th></th>\n",
       "      <th>Variable</th>\n",
       "      <th>Pvalue</th>\n",
       "      <th>Stat Significant</th>\n",
       "    </tr>\n",
       "  </thead>\n",
       "  <tbody>\n",
       "    <tr>\n",
       "      <th>0</th>\n",
       "      <td>Zipcode</td>\n",
       "      <td>4.416118e-65</td>\n",
       "      <td>True</td>\n",
       "    </tr>\n",
       "    <tr>\n",
       "      <th>1</th>\n",
       "      <td>Beds</td>\n",
       "      <td>1.404914e-37</td>\n",
       "      <td>True</td>\n",
       "    </tr>\n",
       "  </tbody>\n",
       "</table>\n",
       "</div>"
      ],
      "text/plain": [
       "  Variable        Pvalue  Stat Significant\n",
       "0  Zipcode  4.416118e-65              True\n",
       "1     Beds  1.404914e-37              True"
      ]
     },
     "execution_count": 12,
     "metadata": {},
     "output_type": "execute_result"
    }
   ],
   "source": [
    "samples_by_group = []\n",
    "for value in set(df[\"beds\"]):\n",
    "    mask = df[\"beds\"] == value\n",
    "    samples_by_group.append(df[\"price\"][mask])\n",
    "\n",
    "stat, p = stats.kruskal(*samples_by_group)\n",
    "\n",
    "stat_table_cat.loc[len(stat_table_cat.index)] = ['Beds', p, p < 0.01] \n",
    "stat_table_cat.head(5)"
   ]
  },
  {
   "cell_type": "markdown",
   "metadata": {},
   "source": [
    "#### Baths vs Price"
   ]
  },
  {
   "cell_type": "code",
   "execution_count": 13,
   "metadata": {},
   "outputs": [
    {
     "data": {
      "text/html": [
       "<div>\n",
       "<style scoped>\n",
       "    .dataframe tbody tr th:only-of-type {\n",
       "        vertical-align: middle;\n",
       "    }\n",
       "\n",
       "    .dataframe tbody tr th {\n",
       "        vertical-align: top;\n",
       "    }\n",
       "\n",
       "    .dataframe thead th {\n",
       "        text-align: right;\n",
       "    }\n",
       "</style>\n",
       "<table border=\"1\" class=\"dataframe\">\n",
       "  <thead>\n",
       "    <tr style=\"text-align: right;\">\n",
       "      <th></th>\n",
       "      <th>Variable</th>\n",
       "      <th>Pvalue</th>\n",
       "      <th>Stat Significant</th>\n",
       "    </tr>\n",
       "  </thead>\n",
       "  <tbody>\n",
       "    <tr>\n",
       "      <th>0</th>\n",
       "      <td>Zipcode</td>\n",
       "      <td>4.416118e-65</td>\n",
       "      <td>True</td>\n",
       "    </tr>\n",
       "    <tr>\n",
       "      <th>1</th>\n",
       "      <td>Beds</td>\n",
       "      <td>1.404914e-37</td>\n",
       "      <td>True</td>\n",
       "    </tr>\n",
       "    <tr>\n",
       "      <th>2</th>\n",
       "      <td>Baths</td>\n",
       "      <td>1.743584e-50</td>\n",
       "      <td>True</td>\n",
       "    </tr>\n",
       "  </tbody>\n",
       "</table>\n",
       "</div>"
      ],
      "text/plain": [
       "  Variable        Pvalue  Stat Significant\n",
       "0  Zipcode  4.416118e-65              True\n",
       "1     Beds  1.404914e-37              True\n",
       "2    Baths  1.743584e-50              True"
      ]
     },
     "execution_count": 13,
     "metadata": {},
     "output_type": "execute_result"
    }
   ],
   "source": [
    "samples_by_group = []\n",
    "for value in set(df[\"baths\"]):\n",
    "    mask = df[\"baths\"] == value\n",
    "    samples_by_group.append(df[\"price\"][mask])\n",
    "\n",
    "stat, p = stats.kruskal(*samples_by_group)\n",
    "\n",
    "stat_table_cat.loc[len(stat_table_cat.index)] = ['Baths', p, p < 0.01] \n",
    "stat_table_cat.head(5)"
   ]
  },
  {
   "cell_type": "markdown",
   "metadata": {},
   "source": [
    "#### Property Type vs Price"
   ]
  },
  {
   "cell_type": "code",
   "execution_count": 14,
   "metadata": {},
   "outputs": [
    {
     "data": {
      "text/html": [
       "<div>\n",
       "<style scoped>\n",
       "    .dataframe tbody tr th:only-of-type {\n",
       "        vertical-align: middle;\n",
       "    }\n",
       "\n",
       "    .dataframe tbody tr th {\n",
       "        vertical-align: top;\n",
       "    }\n",
       "\n",
       "    .dataframe thead th {\n",
       "        text-align: right;\n",
       "    }\n",
       "</style>\n",
       "<table border=\"1\" class=\"dataframe\">\n",
       "  <thead>\n",
       "    <tr style=\"text-align: right;\">\n",
       "      <th></th>\n",
       "      <th>Variable</th>\n",
       "      <th>Pvalue</th>\n",
       "      <th>Stat Significant</th>\n",
       "    </tr>\n",
       "  </thead>\n",
       "  <tbody>\n",
       "    <tr>\n",
       "      <th>0</th>\n",
       "      <td>Zipcode</td>\n",
       "      <td>4.416118e-65</td>\n",
       "      <td>True</td>\n",
       "    </tr>\n",
       "    <tr>\n",
       "      <th>1</th>\n",
       "      <td>Beds</td>\n",
       "      <td>1.404914e-37</td>\n",
       "      <td>True</td>\n",
       "    </tr>\n",
       "    <tr>\n",
       "      <th>2</th>\n",
       "      <td>Baths</td>\n",
       "      <td>1.743584e-50</td>\n",
       "      <td>True</td>\n",
       "    </tr>\n",
       "    <tr>\n",
       "      <th>3</th>\n",
       "      <td>Type</td>\n",
       "      <td>2.904115e-07</td>\n",
       "      <td>True</td>\n",
       "    </tr>\n",
       "  </tbody>\n",
       "</table>\n",
       "</div>"
      ],
      "text/plain": [
       "  Variable        Pvalue  Stat Significant\n",
       "0  Zipcode  4.416118e-65              True\n",
       "1     Beds  1.404914e-37              True\n",
       "2    Baths  1.743584e-50              True\n",
       "3     Type  2.904115e-07              True"
      ]
     },
     "execution_count": 14,
     "metadata": {},
     "output_type": "execute_result"
    }
   ],
   "source": [
    "samples_by_group = []\n",
    "for value in set(df[\"type\"]):\n",
    "    mask = df[\"type\"] == value\n",
    "    samples_by_group.append(df[\"price\"][mask])\n",
    "\n",
    "stat, p = stats.kruskal(*samples_by_group)\n",
    "\n",
    "stat_table_cat.loc[len(stat_table_cat.index)] = ['Type', p, p < 0.01] \n",
    "stat_table_cat.head(5)"
   ]
  },
  {
   "cell_type": "markdown",
   "metadata": {},
   "source": [
    "#### City vs Price"
   ]
  },
  {
   "cell_type": "code",
   "execution_count": 15,
   "metadata": {},
   "outputs": [
    {
     "data": {
      "text/html": [
       "<div>\n",
       "<style scoped>\n",
       "    .dataframe tbody tr th:only-of-type {\n",
       "        vertical-align: middle;\n",
       "    }\n",
       "\n",
       "    .dataframe tbody tr th {\n",
       "        vertical-align: top;\n",
       "    }\n",
       "\n",
       "    .dataframe thead th {\n",
       "        text-align: right;\n",
       "    }\n",
       "</style>\n",
       "<table border=\"1\" class=\"dataframe\">\n",
       "  <thead>\n",
       "    <tr style=\"text-align: right;\">\n",
       "      <th></th>\n",
       "      <th>Variable</th>\n",
       "      <th>Pvalue</th>\n",
       "      <th>Stat Significant</th>\n",
       "    </tr>\n",
       "  </thead>\n",
       "  <tbody>\n",
       "    <tr>\n",
       "      <th>0</th>\n",
       "      <td>Zipcode</td>\n",
       "      <td>4.416118e-65</td>\n",
       "      <td>True</td>\n",
       "    </tr>\n",
       "    <tr>\n",
       "      <th>1</th>\n",
       "      <td>Beds</td>\n",
       "      <td>1.404914e-37</td>\n",
       "      <td>True</td>\n",
       "    </tr>\n",
       "    <tr>\n",
       "      <th>2</th>\n",
       "      <td>Baths</td>\n",
       "      <td>1.743584e-50</td>\n",
       "      <td>True</td>\n",
       "    </tr>\n",
       "    <tr>\n",
       "      <th>3</th>\n",
       "      <td>Type</td>\n",
       "      <td>2.904115e-07</td>\n",
       "      <td>True</td>\n",
       "    </tr>\n",
       "    <tr>\n",
       "      <th>4</th>\n",
       "      <td>City</td>\n",
       "      <td>4.599332e-49</td>\n",
       "      <td>True</td>\n",
       "    </tr>\n",
       "  </tbody>\n",
       "</table>\n",
       "</div>"
      ],
      "text/plain": [
       "  Variable        Pvalue  Stat Significant\n",
       "0  Zipcode  4.416118e-65              True\n",
       "1     Beds  1.404914e-37              True\n",
       "2    Baths  1.743584e-50              True\n",
       "3     Type  2.904115e-07              True\n",
       "4     City  4.599332e-49              True"
      ]
     },
     "execution_count": 15,
     "metadata": {},
     "output_type": "execute_result"
    }
   ],
   "source": [
    "samples_by_group = []\n",
    "for value in set(df[\"city\"]):\n",
    "    mask = df[\"city\"] == value\n",
    "    samples_by_group.append(df[\"price\"][mask])\n",
    "\n",
    "stat, p = stats.kruskal(*samples_by_group)\n",
    "\n",
    "stat_table_cat.loc[len(stat_table_cat.index)] = ['City', p, p < 0.01] \n",
    "stat_table_cat.head(5)"
   ]
  },
  {
   "cell_type": "markdown",
   "metadata": {},
   "source": [
    "#### Street Type vs Price"
   ]
  },
  {
   "cell_type": "code",
   "execution_count": 16,
   "metadata": {},
   "outputs": [
    {
     "data": {
      "text/html": [
       "<div>\n",
       "<style scoped>\n",
       "    .dataframe tbody tr th:only-of-type {\n",
       "        vertical-align: middle;\n",
       "    }\n",
       "\n",
       "    .dataframe tbody tr th {\n",
       "        vertical-align: top;\n",
       "    }\n",
       "\n",
       "    .dataframe thead th {\n",
       "        text-align: right;\n",
       "    }\n",
       "</style>\n",
       "<table border=\"1\" class=\"dataframe\">\n",
       "  <thead>\n",
       "    <tr style=\"text-align: right;\">\n",
       "      <th></th>\n",
       "      <th>Variable</th>\n",
       "      <th>Pvalue</th>\n",
       "      <th>Stat Significant</th>\n",
       "    </tr>\n",
       "  </thead>\n",
       "  <tbody>\n",
       "    <tr>\n",
       "      <th>0</th>\n",
       "      <td>Zipcode</td>\n",
       "      <td>4.416118e-65</td>\n",
       "      <td>True</td>\n",
       "    </tr>\n",
       "    <tr>\n",
       "      <th>1</th>\n",
       "      <td>Beds</td>\n",
       "      <td>1.404914e-37</td>\n",
       "      <td>True</td>\n",
       "    </tr>\n",
       "    <tr>\n",
       "      <th>2</th>\n",
       "      <td>Baths</td>\n",
       "      <td>1.743584e-50</td>\n",
       "      <td>True</td>\n",
       "    </tr>\n",
       "    <tr>\n",
       "      <th>3</th>\n",
       "      <td>Type</td>\n",
       "      <td>2.904115e-07</td>\n",
       "      <td>True</td>\n",
       "    </tr>\n",
       "    <tr>\n",
       "      <th>4</th>\n",
       "      <td>City</td>\n",
       "      <td>4.599332e-49</td>\n",
       "      <td>True</td>\n",
       "    </tr>\n",
       "    <tr>\n",
       "      <th>5</th>\n",
       "      <td>Street Type</td>\n",
       "      <td>5.682550e-23</td>\n",
       "      <td>True</td>\n",
       "    </tr>\n",
       "  </tbody>\n",
       "</table>\n",
       "</div>"
      ],
      "text/plain": [
       "      Variable        Pvalue  Stat Significant\n",
       "0      Zipcode  4.416118e-65              True\n",
       "1         Beds  1.404914e-37              True\n",
       "2        Baths  1.743584e-50              True\n",
       "3         Type  2.904115e-07              True\n",
       "4         City  4.599332e-49              True\n",
       "5  Street Type  5.682550e-23              True"
      ]
     },
     "execution_count": 16,
     "metadata": {},
     "output_type": "execute_result"
    }
   ],
   "source": [
    "samples_by_group = []\n",
    "for value in set(df[\"street_type\"]):\n",
    "    mask = df[\"street_type\"] == value\n",
    "    samples_by_group.append(df[\"price\"][mask])\n",
    "\n",
    "stat, p = stats.kruskal(*samples_by_group)\n",
    "\n",
    "stat_table_cat.loc[len(stat_table_cat.index)] = ['Street Type', p, p < 0.01] \n",
    "stat_table_cat.head(6)"
   ]
  },
  {
   "cell_type": "markdown",
   "metadata": {},
   "source": [
    "#### Empty Lot vs Price"
   ]
  },
  {
   "cell_type": "code",
   "execution_count": 17,
   "metadata": {},
   "outputs": [
    {
     "data": {
      "text/html": [
       "<div>\n",
       "<style scoped>\n",
       "    .dataframe tbody tr th:only-of-type {\n",
       "        vertical-align: middle;\n",
       "    }\n",
       "\n",
       "    .dataframe tbody tr th {\n",
       "        vertical-align: top;\n",
       "    }\n",
       "\n",
       "    .dataframe thead th {\n",
       "        text-align: right;\n",
       "    }\n",
       "</style>\n",
       "<table border=\"1\" class=\"dataframe\">\n",
       "  <thead>\n",
       "    <tr style=\"text-align: right;\">\n",
       "      <th></th>\n",
       "      <th>Variable</th>\n",
       "      <th>Pvalue</th>\n",
       "      <th>Stat Significant</th>\n",
       "    </tr>\n",
       "  </thead>\n",
       "  <tbody>\n",
       "    <tr>\n",
       "      <th>0</th>\n",
       "      <td>Zipcode</td>\n",
       "      <td>4.416118e-65</td>\n",
       "      <td>True</td>\n",
       "    </tr>\n",
       "    <tr>\n",
       "      <th>1</th>\n",
       "      <td>Beds</td>\n",
       "      <td>1.404914e-37</td>\n",
       "      <td>True</td>\n",
       "    </tr>\n",
       "    <tr>\n",
       "      <th>2</th>\n",
       "      <td>Baths</td>\n",
       "      <td>1.743584e-50</td>\n",
       "      <td>True</td>\n",
       "    </tr>\n",
       "    <tr>\n",
       "      <th>3</th>\n",
       "      <td>Type</td>\n",
       "      <td>2.904115e-07</td>\n",
       "      <td>True</td>\n",
       "    </tr>\n",
       "    <tr>\n",
       "      <th>4</th>\n",
       "      <td>City</td>\n",
       "      <td>4.599332e-49</td>\n",
       "      <td>True</td>\n",
       "    </tr>\n",
       "    <tr>\n",
       "      <th>5</th>\n",
       "      <td>Street Type</td>\n",
       "      <td>5.682550e-23</td>\n",
       "      <td>True</td>\n",
       "    </tr>\n",
       "    <tr>\n",
       "      <th>6</th>\n",
       "      <td>Empty Lot</td>\n",
       "      <td>4.351730e-02</td>\n",
       "      <td>False</td>\n",
       "    </tr>\n",
       "  </tbody>\n",
       "</table>\n",
       "</div>"
      ],
      "text/plain": [
       "      Variable        Pvalue  Stat Significant\n",
       "0      Zipcode  4.416118e-65              True\n",
       "1         Beds  1.404914e-37              True\n",
       "2        Baths  1.743584e-50              True\n",
       "3         Type  2.904115e-07              True\n",
       "4         City  4.599332e-49              True\n",
       "5  Street Type  5.682550e-23              True\n",
       "6    Empty Lot  4.351730e-02             False"
      ]
     },
     "execution_count": 17,
     "metadata": {},
     "output_type": "execute_result"
    }
   ],
   "source": [
    "samples_by_group = []\n",
    "for value in set(df[\"empty_lot\"]):\n",
    "    mask = df[\"empty_lot\"] == value\n",
    "    samples_by_group.append(df[\"price\"][mask])\n",
    "\n",
    "stat, p = stats.kruskal(*samples_by_group)\n",
    "\n",
    "stat_table_cat.loc[len(stat_table_cat.index)] = ['Empty Lot', p, p < 0.01] \n",
    "stat_table_cat.head(7)"
   ]
  },
  {
   "cell_type": "code",
   "execution_count": 18,
   "metadata": {},
   "outputs": [
    {
     "data": {
      "text/html": [
       "<div>\n",
       "<style scoped>\n",
       "    .dataframe tbody tr th:only-of-type {\n",
       "        vertical-align: middle;\n",
       "    }\n",
       "\n",
       "    .dataframe tbody tr th {\n",
       "        vertical-align: top;\n",
       "    }\n",
       "\n",
       "    .dataframe thead th {\n",
       "        text-align: right;\n",
       "    }\n",
       "</style>\n",
       "<table border=\"1\" class=\"dataframe\">\n",
       "  <thead>\n",
       "    <tr style=\"text-align: right;\">\n",
       "      <th></th>\n",
       "      <th>Variable</th>\n",
       "      <th>Pvalue</th>\n",
       "      <th>Stat Significant</th>\n",
       "    </tr>\n",
       "  </thead>\n",
       "  <tbody>\n",
       "    <tr>\n",
       "      <th>0</th>\n",
       "      <td>sq__ft</td>\n",
       "      <td>4.171932e-27</td>\n",
       "      <td>True</td>\n",
       "    </tr>\n",
       "    <tr>\n",
       "      <th>1</th>\n",
       "      <td>latitude</td>\n",
       "      <td>2.163252e-01</td>\n",
       "      <td>False</td>\n",
       "    </tr>\n",
       "    <tr>\n",
       "      <th>2</th>\n",
       "      <td>longitude</td>\n",
       "      <td>8.742930e-20</td>\n",
       "      <td>True</td>\n",
       "    </tr>\n",
       "  </tbody>\n",
       "</table>\n",
       "</div>"
      ],
      "text/plain": [
       "    Variable        Pvalue  Stat Significant\n",
       "0     sq__ft  4.171932e-27              True\n",
       "1   latitude  2.163252e-01             False\n",
       "2  longitude  8.742930e-20              True"
      ]
     },
     "execution_count": 18,
     "metadata": {},
     "output_type": "execute_result"
    }
   ],
   "source": [
    "stat_table.head(10)"
   ]
  },
  {
   "cell_type": "markdown",
   "metadata": {},
   "source": [
    "Comparing the predictiveness of categorical variables in respect to these tests and the visualizations in lab 2, it is obvious I was more refrained from calling varibles predictive in lab 2. The table above shows that all the variables except empty lot are predictive of price. However in lab 2, I only said beds and baths were predictive of price. The most intresting observation from this is that while the two categorical variables I said were predictive (beds and baths) had the second and fourth lowest p value, zipcode and city held the first and third lowest p value. Thus, I missed two of the most predictive variables in my analysis of lab 2. \n",
    "\n",
    "In repect to the continous variables, I said that all the varibles (longitude, latitude, and square feet) were predictive of price. However, the linear regression tests ahow taht latitude is not predictive. Comparing the latitude and longitude vs price graphs in lab 2, one can see that the longitude vs price graph is much more linear than the latitude vs price graph. This is likely why the linear regression test shows that longitude is predictive of price, while latitude is not."
   ]
  },
  {
   "cell_type": "markdown",
   "metadata": {},
   "source": [
    "## Part 4: Classification on Property Type"
   ]
  },
  {
   "cell_type": "markdown",
   "metadata": {},
   "source": [
    "This part will explore which varibles are predictive of property type using Kruskal Wallis and Chi-Squared tests."
   ]
  },
  {
   "cell_type": "markdown",
   "metadata": {},
   "source": [
    "### Continious Variables with Kruskal Wallis Tests"
   ]
  },
  {
   "cell_type": "code",
   "execution_count": 19,
   "metadata": {},
   "outputs": [],
   "source": [
    "stat_table_2 = pd.DataFrame(columns=['Variable', 'Pvalue', 'Stat Significant'])"
   ]
  },
  {
   "cell_type": "markdown",
   "metadata": {},
   "source": [
    "#### Price vs Type"
   ]
  },
  {
   "cell_type": "code",
   "execution_count": 20,
   "metadata": {},
   "outputs": [
    {
     "data": {
      "text/html": [
       "<div>\n",
       "<style scoped>\n",
       "    .dataframe tbody tr th:only-of-type {\n",
       "        vertical-align: middle;\n",
       "    }\n",
       "\n",
       "    .dataframe tbody tr th {\n",
       "        vertical-align: top;\n",
       "    }\n",
       "\n",
       "    .dataframe thead th {\n",
       "        text-align: right;\n",
       "    }\n",
       "</style>\n",
       "<table border=\"1\" class=\"dataframe\">\n",
       "  <thead>\n",
       "    <tr style=\"text-align: right;\">\n",
       "      <th></th>\n",
       "      <th>Variable</th>\n",
       "      <th>Pvalue</th>\n",
       "      <th>Stat Significant</th>\n",
       "    </tr>\n",
       "  </thead>\n",
       "  <tbody>\n",
       "    <tr>\n",
       "      <th>0</th>\n",
       "      <td>Price</td>\n",
       "      <td>0.012041</td>\n",
       "      <td>False</td>\n",
       "    </tr>\n",
       "  </tbody>\n",
       "</table>\n",
       "</div>"
      ],
      "text/plain": [
       "  Variable    Pvalue  Stat Significant\n",
       "0    Price  0.012041             False"
      ]
     },
     "execution_count": 20,
     "metadata": {},
     "output_type": "execute_result"
    }
   ],
   "source": [
    "samples_by_group = []\n",
    "for value in set(df[\"price\"]):\n",
    "    mask = df[\"price\"] == value\n",
    "    samples_by_group.append(df[\"type\"][mask])\n",
    "\n",
    "stat, p = stats.kruskal(*samples_by_group)\n",
    "\n",
    "stat_table_2.loc[len(stat_table_2.index)] = ['Price', p, p < 0.01] \n",
    "stat_table_2.head(5)"
   ]
  },
  {
   "cell_type": "markdown",
   "metadata": {},
   "source": [
    "#### Sqaure Feet vs Type"
   ]
  },
  {
   "cell_type": "code",
   "execution_count": 21,
   "metadata": {},
   "outputs": [
    {
     "data": {
      "text/html": [
       "<div>\n",
       "<style scoped>\n",
       "    .dataframe tbody tr th:only-of-type {\n",
       "        vertical-align: middle;\n",
       "    }\n",
       "\n",
       "    .dataframe tbody tr th {\n",
       "        vertical-align: top;\n",
       "    }\n",
       "\n",
       "    .dataframe thead th {\n",
       "        text-align: right;\n",
       "    }\n",
       "</style>\n",
       "<table border=\"1\" class=\"dataframe\">\n",
       "  <thead>\n",
       "    <tr style=\"text-align: right;\">\n",
       "      <th></th>\n",
       "      <th>Variable</th>\n",
       "      <th>Pvalue</th>\n",
       "      <th>Stat Significant</th>\n",
       "    </tr>\n",
       "  </thead>\n",
       "  <tbody>\n",
       "    <tr>\n",
       "      <th>0</th>\n",
       "      <td>Price</td>\n",
       "      <td>0.012041</td>\n",
       "      <td>False</td>\n",
       "    </tr>\n",
       "    <tr>\n",
       "      <th>1</th>\n",
       "      <td>Sqft</td>\n",
       "      <td>0.039424</td>\n",
       "      <td>False</td>\n",
       "    </tr>\n",
       "  </tbody>\n",
       "</table>\n",
       "</div>"
      ],
      "text/plain": [
       "  Variable    Pvalue  Stat Significant\n",
       "0    Price  0.012041             False\n",
       "1     Sqft  0.039424             False"
      ]
     },
     "execution_count": 21,
     "metadata": {},
     "output_type": "execute_result"
    }
   ],
   "source": [
    "samples_by_group = []\n",
    "for value in set(df[\"sq__ft\"]):\n",
    "    mask = df[\"sq__ft\"] == value\n",
    "    samples_by_group.append(df[\"type\"][mask])\n",
    "\n",
    "stat, p = stats.kruskal(*samples_by_group)\n",
    "\n",
    "stat_table_2.loc[len(stat_table_2.index)] = ['Sqft', p, p < 0.01] \n",
    "stat_table_2.head(5)"
   ]
  },
  {
   "cell_type": "markdown",
   "metadata": {},
   "source": [
    "#### Longitude vs Type"
   ]
  },
  {
   "cell_type": "code",
   "execution_count": 22,
   "metadata": {},
   "outputs": [
    {
     "data": {
      "text/html": [
       "<div>\n",
       "<style scoped>\n",
       "    .dataframe tbody tr th:only-of-type {\n",
       "        vertical-align: middle;\n",
       "    }\n",
       "\n",
       "    .dataframe tbody tr th {\n",
       "        vertical-align: top;\n",
       "    }\n",
       "\n",
       "    .dataframe thead th {\n",
       "        text-align: right;\n",
       "    }\n",
       "</style>\n",
       "<table border=\"1\" class=\"dataframe\">\n",
       "  <thead>\n",
       "    <tr style=\"text-align: right;\">\n",
       "      <th></th>\n",
       "      <th>Variable</th>\n",
       "      <th>Pvalue</th>\n",
       "      <th>Stat Significant</th>\n",
       "    </tr>\n",
       "  </thead>\n",
       "  <tbody>\n",
       "    <tr>\n",
       "      <th>0</th>\n",
       "      <td>Price</td>\n",
       "      <td>0.012041</td>\n",
       "      <td>False</td>\n",
       "    </tr>\n",
       "    <tr>\n",
       "      <th>1</th>\n",
       "      <td>Sqft</td>\n",
       "      <td>0.039424</td>\n",
       "      <td>False</td>\n",
       "    </tr>\n",
       "    <tr>\n",
       "      <th>2</th>\n",
       "      <td>Longitude</td>\n",
       "      <td>0.404931</td>\n",
       "      <td>False</td>\n",
       "    </tr>\n",
       "  </tbody>\n",
       "</table>\n",
       "</div>"
      ],
      "text/plain": [
       "    Variable    Pvalue  Stat Significant\n",
       "0      Price  0.012041             False\n",
       "1       Sqft  0.039424             False\n",
       "2  Longitude  0.404931             False"
      ]
     },
     "execution_count": 22,
     "metadata": {},
     "output_type": "execute_result"
    }
   ],
   "source": [
    "samples_by_group = []\n",
    "for value in set(df[\"longitude\"]):\n",
    "    mask = df[\"longitude\"] == value\n",
    "    samples_by_group.append(df[\"type\"][mask])\n",
    "\n",
    "stat, p = stats.kruskal(*samples_by_group)\n",
    "\n",
    "stat_table_2.loc[len(stat_table_2.index)] = ['Longitude', p, p < 0.01] \n",
    "stat_table_2.head(5)"
   ]
  },
  {
   "cell_type": "markdown",
   "metadata": {},
   "source": [
    "#### Latitude vs Type"
   ]
  },
  {
   "cell_type": "code",
   "execution_count": 23,
   "metadata": {},
   "outputs": [
    {
     "data": {
      "text/html": [
       "<div>\n",
       "<style scoped>\n",
       "    .dataframe tbody tr th:only-of-type {\n",
       "        vertical-align: middle;\n",
       "    }\n",
       "\n",
       "    .dataframe tbody tr th {\n",
       "        vertical-align: top;\n",
       "    }\n",
       "\n",
       "    .dataframe thead th {\n",
       "        text-align: right;\n",
       "    }\n",
       "</style>\n",
       "<table border=\"1\" class=\"dataframe\">\n",
       "  <thead>\n",
       "    <tr style=\"text-align: right;\">\n",
       "      <th></th>\n",
       "      <th>Variable</th>\n",
       "      <th>Pvalue</th>\n",
       "      <th>Stat Significant</th>\n",
       "    </tr>\n",
       "  </thead>\n",
       "  <tbody>\n",
       "    <tr>\n",
       "      <th>0</th>\n",
       "      <td>Price</td>\n",
       "      <td>0.012041</td>\n",
       "      <td>False</td>\n",
       "    </tr>\n",
       "    <tr>\n",
       "      <th>1</th>\n",
       "      <td>Sqft</td>\n",
       "      <td>0.039424</td>\n",
       "      <td>False</td>\n",
       "    </tr>\n",
       "    <tr>\n",
       "      <th>2</th>\n",
       "      <td>Longitude</td>\n",
       "      <td>0.404931</td>\n",
       "      <td>False</td>\n",
       "    </tr>\n",
       "    <tr>\n",
       "      <th>3</th>\n",
       "      <td>Latitude</td>\n",
       "      <td>0.353024</td>\n",
       "      <td>False</td>\n",
       "    </tr>\n",
       "  </tbody>\n",
       "</table>\n",
       "</div>"
      ],
      "text/plain": [
       "    Variable    Pvalue  Stat Significant\n",
       "0      Price  0.012041             False\n",
       "1       Sqft  0.039424             False\n",
       "2  Longitude  0.404931             False\n",
       "3   Latitude  0.353024             False"
      ]
     },
     "execution_count": 23,
     "metadata": {},
     "output_type": "execute_result"
    }
   ],
   "source": [
    "samples_by_group = []\n",
    "for value in set(df[\"latitude\"]):\n",
    "    mask = df[\"latitude\"] == value\n",
    "    samples_by_group.append(df[\"type\"][mask])\n",
    "\n",
    "stat, p = stats.kruskal(*samples_by_group)\n",
    "\n",
    "stat_table_2.loc[len(stat_table_2.index)] = ['Latitude', p, p < 0.01] \n",
    "stat_table_2.head(5)"
   ]
  },
  {
   "cell_type": "markdown",
   "metadata": {},
   "source": [
    "### Categorical Variables with Chi-Squared Tests"
   ]
  },
  {
   "cell_type": "code",
   "execution_count": 24,
   "metadata": {},
   "outputs": [],
   "source": [
    "stat_table_3 = pd.DataFrame(columns=['Variable', 'Pvalue', 'Stat Significant'])"
   ]
  },
  {
   "cell_type": "markdown",
   "metadata": {},
   "source": [
    "#### City Vs Type"
   ]
  },
  {
   "cell_type": "code",
   "execution_count": 25,
   "metadata": {},
   "outputs": [
    {
     "data": {
      "text/html": [
       "<div>\n",
       "<style scoped>\n",
       "    .dataframe tbody tr th:only-of-type {\n",
       "        vertical-align: middle;\n",
       "    }\n",
       "\n",
       "    .dataframe tbody tr th {\n",
       "        vertical-align: top;\n",
       "    }\n",
       "\n",
       "    .dataframe thead th {\n",
       "        text-align: right;\n",
       "    }\n",
       "</style>\n",
       "<table border=\"1\" class=\"dataframe\">\n",
       "  <thead>\n",
       "    <tr style=\"text-align: right;\">\n",
       "      <th></th>\n",
       "      <th>Variable</th>\n",
       "      <th>Pvalue</th>\n",
       "      <th>Stat Significant</th>\n",
       "    </tr>\n",
       "  </thead>\n",
       "  <tbody>\n",
       "    <tr>\n",
       "      <th>0</th>\n",
       "      <td>City</td>\n",
       "      <td>0.96912</td>\n",
       "      <td>False</td>\n",
       "    </tr>\n",
       "  </tbody>\n",
       "</table>\n",
       "</div>"
      ],
      "text/plain": [
       "  Variable   Pvalue  Stat Significant\n",
       "0     City  0.96912             False"
      ]
     },
     "execution_count": 25,
     "metadata": {},
     "output_type": "execute_result"
    }
   ],
   "source": [
    "combination_counts = pd.crosstab(df[\"city\"], df[\"type\"])\n",
    "chi2, p, _, _ = stats.chi2_contingency(combination_counts)\n",
    "\n",
    "stat_table_3.loc[len(stat_table_3.index)] = ['City', p, p < 0.01] \n",
    "stat_table_3.head(5)"
   ]
  },
  {
   "cell_type": "markdown",
   "metadata": {},
   "source": [
    "#### Zipcode vs Type "
   ]
  },
  {
   "cell_type": "code",
   "execution_count": 26,
   "metadata": {},
   "outputs": [
    {
     "data": {
      "text/html": [
       "<div>\n",
       "<style scoped>\n",
       "    .dataframe tbody tr th:only-of-type {\n",
       "        vertical-align: middle;\n",
       "    }\n",
       "\n",
       "    .dataframe tbody tr th {\n",
       "        vertical-align: top;\n",
       "    }\n",
       "\n",
       "    .dataframe thead th {\n",
       "        text-align: right;\n",
       "    }\n",
       "</style>\n",
       "<table border=\"1\" class=\"dataframe\">\n",
       "  <thead>\n",
       "    <tr style=\"text-align: right;\">\n",
       "      <th></th>\n",
       "      <th>Variable</th>\n",
       "      <th>Pvalue</th>\n",
       "      <th>Stat Significant</th>\n",
       "    </tr>\n",
       "  </thead>\n",
       "  <tbody>\n",
       "    <tr>\n",
       "      <th>0</th>\n",
       "      <td>City</td>\n",
       "      <td>0.969120</td>\n",
       "      <td>False</td>\n",
       "    </tr>\n",
       "    <tr>\n",
       "      <th>1</th>\n",
       "      <td>Zip</td>\n",
       "      <td>0.000112</td>\n",
       "      <td>True</td>\n",
       "    </tr>\n",
       "  </tbody>\n",
       "</table>\n",
       "</div>"
      ],
      "text/plain": [
       "  Variable    Pvalue  Stat Significant\n",
       "0     City  0.969120             False\n",
       "1      Zip  0.000112              True"
      ]
     },
     "execution_count": 26,
     "metadata": {},
     "output_type": "execute_result"
    }
   ],
   "source": [
    "combination_counts = pd.crosstab(df[\"zip\"], df[\"type\"])\n",
    "chi2, p, _, _ = stats.chi2_contingency(combination_counts)\n",
    "\n",
    "stat_table_3.loc[len(stat_table_3.index)] = ['Zip', p, p < 0.01] \n",
    "stat_table_3.head(5)"
   ]
  },
  {
   "cell_type": "markdown",
   "metadata": {},
   "source": [
    "#### Beds vs Type"
   ]
  },
  {
   "cell_type": "code",
   "execution_count": 27,
   "metadata": {},
   "outputs": [
    {
     "data": {
      "text/html": [
       "<div>\n",
       "<style scoped>\n",
       "    .dataframe tbody tr th:only-of-type {\n",
       "        vertical-align: middle;\n",
       "    }\n",
       "\n",
       "    .dataframe tbody tr th {\n",
       "        vertical-align: top;\n",
       "    }\n",
       "\n",
       "    .dataframe thead th {\n",
       "        text-align: right;\n",
       "    }\n",
       "</style>\n",
       "<table border=\"1\" class=\"dataframe\">\n",
       "  <thead>\n",
       "    <tr style=\"text-align: right;\">\n",
       "      <th></th>\n",
       "      <th>Variable</th>\n",
       "      <th>Pvalue</th>\n",
       "      <th>Stat Significant</th>\n",
       "    </tr>\n",
       "  </thead>\n",
       "  <tbody>\n",
       "    <tr>\n",
       "      <th>0</th>\n",
       "      <td>City</td>\n",
       "      <td>9.691204e-01</td>\n",
       "      <td>False</td>\n",
       "    </tr>\n",
       "    <tr>\n",
       "      <th>1</th>\n",
       "      <td>Zip</td>\n",
       "      <td>1.123314e-04</td>\n",
       "      <td>True</td>\n",
       "    </tr>\n",
       "    <tr>\n",
       "      <th>2</th>\n",
       "      <td>Beds</td>\n",
       "      <td>1.375212e-67</td>\n",
       "      <td>True</td>\n",
       "    </tr>\n",
       "  </tbody>\n",
       "</table>\n",
       "</div>"
      ],
      "text/plain": [
       "  Variable        Pvalue  Stat Significant\n",
       "0     City  9.691204e-01             False\n",
       "1      Zip  1.123314e-04              True\n",
       "2     Beds  1.375212e-67              True"
      ]
     },
     "execution_count": 27,
     "metadata": {},
     "output_type": "execute_result"
    }
   ],
   "source": [
    "combination_counts = pd.crosstab(df[\"beds\"], df[\"type\"])\n",
    "chi2, p, _, _ = stats.chi2_contingency(combination_counts)\n",
    "\n",
    "stat_table_3.loc[len(stat_table_3.index)] = ['Beds', p, p < 0.01] \n",
    "stat_table_3.head(5)"
   ]
  },
  {
   "cell_type": "markdown",
   "metadata": {},
   "source": [
    "#### Baths vs Type"
   ]
  },
  {
   "cell_type": "code",
   "execution_count": 28,
   "metadata": {},
   "outputs": [
    {
     "data": {
      "text/html": [
       "<div>\n",
       "<style scoped>\n",
       "    .dataframe tbody tr th:only-of-type {\n",
       "        vertical-align: middle;\n",
       "    }\n",
       "\n",
       "    .dataframe tbody tr th {\n",
       "        vertical-align: top;\n",
       "    }\n",
       "\n",
       "    .dataframe thead th {\n",
       "        text-align: right;\n",
       "    }\n",
       "</style>\n",
       "<table border=\"1\" class=\"dataframe\">\n",
       "  <thead>\n",
       "    <tr style=\"text-align: right;\">\n",
       "      <th></th>\n",
       "      <th>Variable</th>\n",
       "      <th>Pvalue</th>\n",
       "      <th>Stat Significant</th>\n",
       "    </tr>\n",
       "  </thead>\n",
       "  <tbody>\n",
       "    <tr>\n",
       "      <th>0</th>\n",
       "      <td>City</td>\n",
       "      <td>9.691204e-01</td>\n",
       "      <td>False</td>\n",
       "    </tr>\n",
       "    <tr>\n",
       "      <th>1</th>\n",
       "      <td>Zip</td>\n",
       "      <td>1.123314e-04</td>\n",
       "      <td>True</td>\n",
       "    </tr>\n",
       "    <tr>\n",
       "      <th>2</th>\n",
       "      <td>Beds</td>\n",
       "      <td>1.375212e-67</td>\n",
       "      <td>True</td>\n",
       "    </tr>\n",
       "    <tr>\n",
       "      <th>3</th>\n",
       "      <td>Baths</td>\n",
       "      <td>6.178041e-43</td>\n",
       "      <td>True</td>\n",
       "    </tr>\n",
       "  </tbody>\n",
       "</table>\n",
       "</div>"
      ],
      "text/plain": [
       "  Variable        Pvalue  Stat Significant\n",
       "0     City  9.691204e-01             False\n",
       "1      Zip  1.123314e-04              True\n",
       "2     Beds  1.375212e-67              True\n",
       "3    Baths  6.178041e-43              True"
      ]
     },
     "execution_count": 28,
     "metadata": {},
     "output_type": "execute_result"
    }
   ],
   "source": [
    "combination_counts = pd.crosstab(df[\"baths\"], df[\"type\"])\n",
    "chi2, p, _, _ = stats.chi2_contingency(combination_counts)\n",
    "\n",
    "stat_table_3.loc[len(stat_table_3.index)] = ['Baths', p, p < 0.01] \n",
    "stat_table_3.head(5)"
   ]
  },
  {
   "cell_type": "markdown",
   "metadata": {},
   "source": [
    "#### Street Type vs Type"
   ]
  },
  {
   "cell_type": "code",
   "execution_count": 29,
   "metadata": {},
   "outputs": [
    {
     "data": {
      "text/html": [
       "<div>\n",
       "<style scoped>\n",
       "    .dataframe tbody tr th:only-of-type {\n",
       "        vertical-align: middle;\n",
       "    }\n",
       "\n",
       "    .dataframe tbody tr th {\n",
       "        vertical-align: top;\n",
       "    }\n",
       "\n",
       "    .dataframe thead th {\n",
       "        text-align: right;\n",
       "    }\n",
       "</style>\n",
       "<table border=\"1\" class=\"dataframe\">\n",
       "  <thead>\n",
       "    <tr style=\"text-align: right;\">\n",
       "      <th></th>\n",
       "      <th>Variable</th>\n",
       "      <th>Pvalue</th>\n",
       "      <th>Stat Significant</th>\n",
       "    </tr>\n",
       "  </thead>\n",
       "  <tbody>\n",
       "    <tr>\n",
       "      <th>0</th>\n",
       "      <td>City</td>\n",
       "      <td>9.691204e-01</td>\n",
       "      <td>False</td>\n",
       "    </tr>\n",
       "    <tr>\n",
       "      <th>1</th>\n",
       "      <td>Zip</td>\n",
       "      <td>1.123314e-04</td>\n",
       "      <td>True</td>\n",
       "    </tr>\n",
       "    <tr>\n",
       "      <th>2</th>\n",
       "      <td>Beds</td>\n",
       "      <td>1.375212e-67</td>\n",
       "      <td>True</td>\n",
       "    </tr>\n",
       "    <tr>\n",
       "      <th>3</th>\n",
       "      <td>Baths</td>\n",
       "      <td>6.178041e-43</td>\n",
       "      <td>True</td>\n",
       "    </tr>\n",
       "    <tr>\n",
       "      <th>4</th>\n",
       "      <td>Street Type</td>\n",
       "      <td>5.527803e-19</td>\n",
       "      <td>True</td>\n",
       "    </tr>\n",
       "  </tbody>\n",
       "</table>\n",
       "</div>"
      ],
      "text/plain": [
       "      Variable        Pvalue  Stat Significant\n",
       "0         City  9.691204e-01             False\n",
       "1          Zip  1.123314e-04              True\n",
       "2         Beds  1.375212e-67              True\n",
       "3        Baths  6.178041e-43              True\n",
       "4  Street Type  5.527803e-19              True"
      ]
     },
     "execution_count": 29,
     "metadata": {},
     "output_type": "execute_result"
    }
   ],
   "source": [
    "combination_counts = pd.crosstab(df[\"street_type\"], df[\"type\"])\n",
    "chi2, p, _, _ = stats.chi2_contingency(combination_counts)\n",
    "\n",
    "stat_table_3.loc[len(stat_table_3.index)] = ['Street Type', p, p < 0.01] \n",
    "stat_table_3.head(5)"
   ]
  },
  {
   "cell_type": "markdown",
   "metadata": {},
   "source": [
    "### Analysis on Type Predictors"
   ]
  },
  {
   "cell_type": "markdown",
   "metadata": {},
   "source": [
    "##### Continuous Variables"
   ]
  },
  {
   "cell_type": "code",
   "execution_count": 30,
   "metadata": {},
   "outputs": [
    {
     "data": {
      "text/html": [
       "<div>\n",
       "<style scoped>\n",
       "    .dataframe tbody tr th:only-of-type {\n",
       "        vertical-align: middle;\n",
       "    }\n",
       "\n",
       "    .dataframe tbody tr th {\n",
       "        vertical-align: top;\n",
       "    }\n",
       "\n",
       "    .dataframe thead th {\n",
       "        text-align: right;\n",
       "    }\n",
       "</style>\n",
       "<table border=\"1\" class=\"dataframe\">\n",
       "  <thead>\n",
       "    <tr style=\"text-align: right;\">\n",
       "      <th></th>\n",
       "      <th>Variable</th>\n",
       "      <th>Pvalue</th>\n",
       "      <th>Stat Significant</th>\n",
       "    </tr>\n",
       "  </thead>\n",
       "  <tbody>\n",
       "    <tr>\n",
       "      <th>0</th>\n",
       "      <td>Price</td>\n",
       "      <td>0.012041</td>\n",
       "      <td>False</td>\n",
       "    </tr>\n",
       "    <tr>\n",
       "      <th>1</th>\n",
       "      <td>Sqft</td>\n",
       "      <td>0.039424</td>\n",
       "      <td>False</td>\n",
       "    </tr>\n",
       "    <tr>\n",
       "      <th>2</th>\n",
       "      <td>Longitude</td>\n",
       "      <td>0.404931</td>\n",
       "      <td>False</td>\n",
       "    </tr>\n",
       "    <tr>\n",
       "      <th>3</th>\n",
       "      <td>Latitude</td>\n",
       "      <td>0.353024</td>\n",
       "      <td>False</td>\n",
       "    </tr>\n",
       "  </tbody>\n",
       "</table>\n",
       "</div>"
      ],
      "text/plain": [
       "    Variable    Pvalue  Stat Significant\n",
       "0      Price  0.012041             False\n",
       "1       Sqft  0.039424             False\n",
       "2  Longitude  0.404931             False\n",
       "3   Latitude  0.353024             False"
      ]
     },
     "execution_count": 30,
     "metadata": {},
     "output_type": "execute_result"
    }
   ],
   "source": [
    "stat_table_2.head(10)"
   ]
  },
  {
   "cell_type": "markdown",
   "metadata": {},
   "source": [
    "##### Categorical Variables"
   ]
  },
  {
   "cell_type": "code",
   "execution_count": 31,
   "metadata": {},
   "outputs": [
    {
     "data": {
      "text/html": [
       "<div>\n",
       "<style scoped>\n",
       "    .dataframe tbody tr th:only-of-type {\n",
       "        vertical-align: middle;\n",
       "    }\n",
       "\n",
       "    .dataframe tbody tr th {\n",
       "        vertical-align: top;\n",
       "    }\n",
       "\n",
       "    .dataframe thead th {\n",
       "        text-align: right;\n",
       "    }\n",
       "</style>\n",
       "<table border=\"1\" class=\"dataframe\">\n",
       "  <thead>\n",
       "    <tr style=\"text-align: right;\">\n",
       "      <th></th>\n",
       "      <th>Variable</th>\n",
       "      <th>Pvalue</th>\n",
       "      <th>Stat Significant</th>\n",
       "    </tr>\n",
       "  </thead>\n",
       "  <tbody>\n",
       "    <tr>\n",
       "      <th>0</th>\n",
       "      <td>City</td>\n",
       "      <td>9.691204e-01</td>\n",
       "      <td>False</td>\n",
       "    </tr>\n",
       "    <tr>\n",
       "      <th>1</th>\n",
       "      <td>Zip</td>\n",
       "      <td>1.123314e-04</td>\n",
       "      <td>True</td>\n",
       "    </tr>\n",
       "    <tr>\n",
       "      <th>2</th>\n",
       "      <td>Beds</td>\n",
       "      <td>1.375212e-67</td>\n",
       "      <td>True</td>\n",
       "    </tr>\n",
       "    <tr>\n",
       "      <th>3</th>\n",
       "      <td>Baths</td>\n",
       "      <td>6.178041e-43</td>\n",
       "      <td>True</td>\n",
       "    </tr>\n",
       "    <tr>\n",
       "      <th>4</th>\n",
       "      <td>Street Type</td>\n",
       "      <td>5.527803e-19</td>\n",
       "      <td>True</td>\n",
       "    </tr>\n",
       "  </tbody>\n",
       "</table>\n",
       "</div>"
      ],
      "text/plain": [
       "      Variable        Pvalue  Stat Significant\n",
       "0         City  9.691204e-01             False\n",
       "1          Zip  1.123314e-04              True\n",
       "2         Beds  1.375212e-67              True\n",
       "3        Baths  6.178041e-43              True\n",
       "4  Street Type  5.527803e-19              True"
      ]
     },
     "execution_count": 31,
     "metadata": {},
     "output_type": "execute_result"
    }
   ],
   "source": [
    "stat_table_3.head(10)"
   ]
  },
  {
   "cell_type": "markdown",
   "metadata": {},
   "source": [
    "Looking at these results next to conclusions in lab 2, I was not accurate in lab 2. In that lab, I said the best predictors of property type were zipcode, square feet, and beds. However, these tests conclude that square feet is not a predictor of property type. Beyond that, they also conclude that baths and street type are predictive of property type as well. These tests allow trends to be seen in way that they can not be visual charts and plots."
   ]
  },
  {
   "cell_type": "markdown",
   "metadata": {},
   "source": [
    "## Conclusion\n",
    "This program aimed to summarize and apply various statistical relationship tests to discover which variables were predictive of price and property type. These tests discovered that all the varibles except latitude and empty lot are predictive of price and zipcode, beds, baths, and street type were predictive of property type.\n",
    "\n",
    "If this program were to be expanded, doing more analysis on the statistical values would further increase understanding of how each variable compares to its predicted value."
   ]
  },
  {
   "cell_type": "code",
   "execution_count": 37,
   "metadata": {},
   "outputs": [],
   "source": [
    "samples_by_group = []\n",
    "for value in set(df[\"zip\"]):\n",
    "    \n",
    "    mask = df[\"zip\"] == value\n",
    "    samples_by_group.append(df[\"price\"][mask])"
   ]
  },
  {
   "cell_type": "code",
   "execution_count": 40,
   "metadata": {},
   "outputs": [
    {
     "name": "stdout",
     "output_type": "stream",
     "text": [
      "99     263500\n",
      "119    320000\n",
      "120    320000\n",
      "145    430000\n",
      "307    425000\n",
      "472    266000\n",
      "502    331500\n",
      "521    395100\n",
      "787    313000\n",
      "822    390000\n",
      "824    396000\n",
      "Name: price, dtype: int64\n"
     ]
    }
   ],
   "source": [
    "print(samples_by_group[len(samples_by_group)-1])"
   ]
  },
  {
   "cell_type": "code",
   "execution_count": null,
   "metadata": {},
   "outputs": [],
   "source": []
  }
 ],
 "metadata": {
  "kernelspec": {
   "display_name": "Python 3",
   "language": "python",
   "name": "python3"
  },
  "language_info": {
   "codemirror_mode": {
    "name": "ipython",
    "version": 3
   },
   "file_extension": ".py",
   "mimetype": "text/x-python",
   "name": "python",
   "nbconvert_exporter": "python",
   "pygments_lexer": "ipython3",
   "version": "3.11.6"
  },
  "orig_nbformat": 4
 },
 "nbformat": 4,
 "nbformat_minor": 2
}
